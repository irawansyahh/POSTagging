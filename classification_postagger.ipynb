{
  "nbformat": 4,
  "nbformat_minor": 0,
  "metadata": {
    "colab": {
      "name": "classification_postagger.ipynb",
      "provenance": [],
      "collapsed_sections": []
    },
    "kernelspec": {
      "display_name": "Python 3",
      "language": "python",
      "name": "python3"
    },
    "language_info": {
      "codemirror_mode": {
        "name": "ipython",
        "version": 3
      },
      "file_extension": ".py",
      "mimetype": "text/x-python",
      "name": "python",
      "nbconvert_exporter": "python",
      "pygments_lexer": "ipython3",
      "version": "3.8.3"
    }
  },
  "cells": [
    {
      "cell_type": "markdown",
      "metadata": {
        "id": "WTMWUms16rSy"
      },
      "source": [
        "POSTagging dengan metode klasifikasi konvensional. \n",
        "\n",
        "Metode klasifikasi yang digunakan pada contoh ini adalah *Decision Tree*.\n",
        "\n",
        "\n",
        "sumber: https://nlpforhackers.io/training-pos-tagger/"
      ]
    },
    {
      "cell_type": "markdown",
      "metadata": {
        "id": "gVhAu_Xg6rSz"
      },
      "source": [
        "Import library yang dibutuhkan"
      ]
    },
    {
      "cell_type": "code",
      "metadata": {
        "id": "LYqeDZZ_6rSz",
        "colab": {
          "base_uri": "https://localhost:8080/"
        },
        "outputId": "d47e9c17-e0c9-4966-fcc1-5a69dbbeaa64"
      },
      "source": [
        "import nltk\n",
        "nltk.download('punkt')\n",
        "import pandas as pd\n",
        "\n",
        "from sklearn import tree\n",
        "from sklearn.feature_extraction import DictVectorizer\n",
        "from sklearn.pipeline import Pipeline"
      ],
      "execution_count": 18,
      "outputs": [
        {
          "output_type": "stream",
          "text": [
            "[nltk_data] Downloading package punkt to /root/nltk_data...\n",
            "[nltk_data]   Package punkt is already up-to-date!\n"
          ],
          "name": "stdout"
        }
      ]
    },
    {
      "cell_type": "markdown",
      "metadata": {
        "id": "Rp_uMHRS6rS4"
      },
      "source": [
        "Baca data latih.\n"
      ]
    },
    {
      "cell_type": "code",
      "metadata": {
        "id": "Us_efW_B6rS5",
        "colab": {
          "base_uri": "https://localhost:8080/",
          "height": 198
        },
        "outputId": "ccacaecc-73d5-4c71-f536-9d40f620670d"
      },
      "source": [
        "colnames = ['Word','Tag']\n",
        "tsv_read = pd.read_csv('train.01.tsv', sep='\\t',names=colnames,header=None)\n",
        "tsv_read = tsv_read.astype(str)\n",
        "tsv_read.head()"
      ],
      "execution_count": 19,
      "outputs": [
        {
          "output_type": "execute_result",
          "data": {
            "text/html": [
              "<div>\n",
              "<style scoped>\n",
              "    .dataframe tbody tr th:only-of-type {\n",
              "        vertical-align: middle;\n",
              "    }\n",
              "\n",
              "    .dataframe tbody tr th {\n",
              "        vertical-align: top;\n",
              "    }\n",
              "\n",
              "    .dataframe thead th {\n",
              "        text-align: right;\n",
              "    }\n",
              "</style>\n",
              "<table border=\"1\" class=\"dataframe\">\n",
              "  <thead>\n",
              "    <tr style=\"text-align: right;\">\n",
              "      <th></th>\n",
              "      <th>Word</th>\n",
              "      <th>Tag</th>\n",
              "    </tr>\n",
              "  </thead>\n",
              "  <tbody>\n",
              "    <tr>\n",
              "      <th>0</th>\n",
              "      <td>Pemerintah</td>\n",
              "      <td>NN</td>\n",
              "    </tr>\n",
              "    <tr>\n",
              "      <th>1</th>\n",
              "      <td>bahkan</td>\n",
              "      <td>RB</td>\n",
              "    </tr>\n",
              "    <tr>\n",
              "      <th>2</th>\n",
              "      <td>telah</td>\n",
              "      <td>MD</td>\n",
              "    </tr>\n",
              "    <tr>\n",
              "      <th>3</th>\n",
              "      <td>mencanangkan</td>\n",
              "      <td>VB</td>\n",
              "    </tr>\n",
              "    <tr>\n",
              "      <th>4</th>\n",
              "      <td>dana</td>\n",
              "      <td>NN</td>\n",
              "    </tr>\n",
              "  </tbody>\n",
              "</table>\n",
              "</div>"
            ],
            "text/plain": [
              "           Word Tag\n",
              "0    Pemerintah  NN\n",
              "1        bahkan  RB\n",
              "2         telah  MD\n",
              "3  mencanangkan  VB\n",
              "4          dana  NN"
            ]
          },
          "metadata": {
            "tags": []
          },
          "execution_count": 19
        }
      ]
    },
    {
      "cell_type": "markdown",
      "metadata": {
        "id": "2b7vT_aM9uDj"
      },
      "source": [
        "Baca dataset menjadi 2 bagian list: kata-kata dalam kalimat dan tag"
      ]
    },
    {
      "cell_type": "code",
      "metadata": {
        "id": "O5sgOp-3928D"
      },
      "source": [
        "word_temp = [] \n",
        "tag_temp= [] \n",
        "training_sentences = []\n",
        "training_tags = [] \n",
        "count_sentences = 0\n",
        "\n",
        "for index, row in tsv_read.iterrows():   \n",
        "    word = row['Word'].lower()\n",
        "    tag = row['Tag']\n",
        "    key = (word,tag)\n",
        "    if count_sentences < 50:\n",
        "        if word != 'nan':\n",
        "            word_temp.append(word)\n",
        "            tag_temp.append(tag)\n",
        "            if word == '.' :\n",
        "                training_sentences.append(word_temp)\n",
        "                training_tags.append(tag_temp)\n",
        "                word_temp = []\n",
        "                tag_temp = []\n",
        "\n",
        "    if word == '.' :\n",
        "        count_sentences += 1      \n",
        "        if(count_sentences == 50):\n",
        "            break"
      ],
      "execution_count": 20,
      "outputs": []
    },
    {
      "cell_type": "code",
      "metadata": {
        "id": "aGizGG2N-zEs",
        "colab": {
          "base_uri": "https://localhost:8080/"
        },
        "outputId": "38035130-6454-4f7a-8934-fd6dde298082"
      },
      "source": [
        "print(training_sentences)"
      ],
      "execution_count": 21,
      "outputs": [
        {
          "output_type": "stream",
          "text": [
            "[['pemerintah', 'bahkan', 'telah', 'mencanangkan', 'dana', 'untuk', 'memicu', 'sektor', 'usaha', 'kecil', 'dan', 'menengah', 'ukm', 'tumbuh', 'lebih', 'baik', ',', 'karena', 'sektor', 'ini', 'cukup', 'kuat', 'dalam', 'krisis', 'keuangan', 'pada', 'tahun', '1997', 'lalu', ',', 'kata', '-nya', '.'], ['gubernur', 'bank', 'indonesia', 'burhanudin', 'abdullah', 'optimistis', 'mencapai', 'target', 'proyeksi', 'suku', 'bunga', 'indonesia', 'sbi', '2008', 'yang', 'mencapai', '7,5', '-', '8,0', 'persen', '.'], ['badan', 'kredit', 'desa', 'boleh', 'dibilang', 'sebagai', 'tonggak sejarah', 'berdiri', '-nya', 'lembaga', 'keuangan', 'mikro', 'di', 'indonesia', '.'], ['pada', 'tahun', '1991', 'jumlah', 'utang', 'luar negeri', 'pemerintah', 'membengkak', 'dua', 'kali', 'lipat', 'menjadi', 'us', '$', '45,725', 'miliar', '.'], ['kami', 'sampaikan', 'bahwa', 'pemerintah', 'optimis', 'mengenai', 'tercapai', '-nya', 'target', 'pertumbuhan ekonomi', 'sebesar', '6,2', 'persen', 'dalam', 'tahun', '2009', ',', 'kata', 'menteri', 'keuangan', 'menkeu', 'sri', 'mulyani', 'indrawati', 'yen', 'saat', 'ini', 'merosot', 'terhadap', 'dolar', 'as', ',', 'karena', 'pelaku', 'mengantisipasi', 'rencana', 'kenaikan', 'suku', 'bunga', 'itu', ',', 'ucap', '-nya', '.'], ['karena', 'pendapatan', 'negara', 'direncanakan', 'rp', '1.158', 'triliun', 'sementara', 'belanja', 'negara', 'sebesar', 'rp', '1.237', 'triliun', '.'], ['militer', 'as', 'telah', 'mengatakan', 'bahwa', 'pos', 'penjagaan', 'perbatasan', 'akan', 'diubah', ',', 'sebagian', 'untuk', 'membentuk', 'titik', 'perpindahan', 'guna', 'mencari', 'kendaraan', 'yang', 'masuk', '.'], ['rupiah', 'berada', 'dalam', 'posisi', 'yang', 'aman', 'apabila', 'berkisar', 'antara', 'rp', '9.15', 'sampai', 'rp', '9.175', 'per', 'dolar', 'as', ',', 'namun', 'sampai', 'menembus', 'angka', 'rp', '9.2', 'per', 'dolar', 'as', 'biasanya', 'rupiah', 'akan', 'terus', 'terpuruk', '.'], ['sementara', 'itu', ',', 'militer', 'as', 'mengumumkan', 'korban', 'pertama', 'mereka', 'sejak', 'peluncuran', 'rencana', 'keamanan', 'baru', 'untuk', 'baghdad', ',', 'dengan', 'kematian', 'dua', 'prajurit', '-nya', 'di', 'wilayah', 'utara', 'ibu kota', 'irak', 'tersebut', 'sabtu', ',', 'satu', 'orang', 'karena', 'serangan', 'granat', 'gerilyawan', 'dan', 'yang', 'satu', '-nya', 'lagi', 'karena', 'tembakan', 'senjata ringan', '.'], ['namun', 'sampai', 'saat', 'ini', 'rupiah', 'terlihat', 'sulit', 'menuju', 'ke', 'level', 'tersebut', ',', 'karena', 'pelaku pasar', 'mempunyai', 'persepsi', 'sendiri', ',', 'ucap', '-nya', '.'], ['namun', 'wakil', 'menteri', 'pertahanan', 'tersebut', 'mengakui', 'pada', 'pertemuan', 'satu', 'komite', 'senat', 'mengenai', 'anggaran', '2008', 'bahwa', 'telah', 'tersiar', 'laporan', 'mengenai', 'turun', '-nya', 'pembunuhan', 'antarpengikut', 'aliran', 'di', 'negeri', 'itu', '.'], ['perusahaan', 'didukung', 'oleh', 'jaringan', 'distribusi', 'yang', 'luas', ',', 'terdiri', 'dari', '4', 'kantor cabang', 'dan', '8', 'kantor perwakilan', 'di', 'luar', 'indonesia', 'seperti', 'di', 'singapura', ',', 'thailand', 'dan', 'china', '.'], ['ulfa', ',', 'yang', 'berjuang', 'untuk', 'pemisahan', 'tanah air', 'warga', 'assam', 'sejak', 'tahun', '1979', 'dan', 'mengharapkan', 'semua', 'warga', 'non', '-', 'assam', ',', 'terutama', 'masyarakat', 'yang', 'berbicara', 'dalam', 'bahasa', 'hindi', 'meninggalkan', 'negara', 'tersebut', ',', 'namun', 'tidak', 'mengklaim', 'bertanggung jawab', 'atas', 'terjadi', '-nya', 'serangan-serangan', '.'], ['jadi', 'saya', 'itu', 'harus', 'hati-hati', 'betul', 'mengelola', 'dan', 'membuat', 'kebijakan', 'bumn', ',', 'ujar', 'sugiharto', '.'], ['kami', 'telah', 'mendapatkan', 'jaminan', 'dari', 'pgn', 'akan', 'kelancaran', 'pasokan', 'gas', 'yang', 'dialirkan', 'melalui', 'pipa', 'sswj', '.'], ['tiga', 'pilar', 'setan', 'tersebut', 'semakin', 'dikokohkan', 'gerak', '-nya', 'dengan', 'adanya', 'sistem', 'nilai tukar', 'mengambang', '.'], ['sementara', 'itu', ',', 'menteri', 'pertahanan', 'india', ',', 'ak', 'antony', 'dan', 'kepala', 'militer', 'jenderal', 'jj', 'singh', ',', 'dijadwalkan', 'untuk', 'mengunjungi', 'negara bagian', 'yang', 'dijadikan', 'sasaran', 'serangan', 'selasa', ',', 'untuk', 'menilai', 'situasi', 'keamanan', '.'], ['komisaris', 'bumi', 'nalinkant', 'rathod', 'memaparkan', ',', 'tata', 'power', 'telah', 'masuk', 'ke', 'dalam', 'persetujuan', 'jangka panjang', 'dengan', 'kpc', 'yang', 'akan', 'menyuplai', 'sekitar', '10', 'juta', 'ton', 'batu bara', 'per', 'tahun', 'untuk', 'pembangkit', 'listrik', 'di', 'trombay', ',', 'india', ',', 'dan', 'juga', 'sejumlah', 'proyek', 'masa', 'depan', 'lain', '-nya', '.'], ['badan', 'pom', 'selama', 'ini', 'misal nya', 'ikut', 'menentukan', 'boleh', 'masuk', 'atau', 'tidak', '-nya', 'makanan', 'serta', 'obat-obatan', 'dari', 'berbagai', 'negara', 'mitra', 'dagang', 'indonesia', '.'], ['namun', 'tidak', 'tertutup', 'bi', 'akan', 'tetap', 'menahan', 'di', 'level', '9', 'persen', 'dengan', 'kompensasi', 'pekan', 'ini', 'bi', 'masih', 'akan', 'terus', 'melonggarkan', 'aturan-aturan', 'perbankan', 'di', 'bidang', 'perkreditan', '.'], ['sri', 'mulyani', 'dalam', 'acara', 'pembukaan', 'indonesia', 'investor', 'forum', 'ii', 'di', 'jakarta', ',', 'selasa', ',', 'mengatakan', 'kontribusi', 'pasar modal', 'terhadap', 'pdb', 'ini', 'menunjukkan', 'trend', 'naik', 'dibanding', 'pada', 'akhir', '2006', 'yang', 'hanya', 'sebesar', '37,4', 'persen', 'dari', 'pdb', 'dengan', 'kapitalisasi', 'rp', '1.25', 'triliun', '.'], ['menurut', '-nya', ',', 'transaksi', 'tersebut', 'adalah', 'transaksi', 'material', 'yang', 'harus', 'disetujui', 'oleh', 'mayoritas', 'pemegang saham', 'enrg', 'pada', 'rapat', 'umum', 'pemegang', 'saham', 'luar biasa', 'rupslb', 'yang', 'akan', 'dilaksanakan', 'sekitar', 'awal', 'april', '2007', '.'], ['permodalan', 'panin', 'adalah', 'kuat', 'dengan', 'car', 'total', '29,5', 'persen', 'pada', 'akhir', 'tahun', '2006', 'tier', '1', ':', '21,8', 'persen', ',', 'di', 'atas', 'rata-rata', 'industri', 'yang', 'sebesar', '20,5', 'persen', '.'], ['beberapa', 'kelompok', 'kecil', 'pemrotes', 'mengibarkan', 'spanduk', 'yang', 'mencela', 'referendum', 'tersebut', 'dan', 'menyerukan', 'boikot', 'dari', 'dalam', 'halaman', 'gedung', 'perserikatan', 'wartawan', 'di', 'pusat', 'kota', 'kairo', ',', 'di', 'tengah', 'pengamanan', 'ketat', '.'], ['itu', 'adalah', 'pengeboman', 'bunuh', 'diri', '.'], ['rupiah', ',', 'ia', 'mengatakan', ',', 'kemungkinan', 'akan', 'masih', 'terpuruk', 'yang', 'cenderung', 'mendekati', 'level', 'rp', '9.4', 'per', 'dolar', 'as', ',', 'namun', 'bank', 'indonesia', 'bi', 'diperkirakan', 'akan', 'masuk', 'pasar', 'untuk', 'mengantisipasi', 'tekanan', 'yang', 'cukup', 'besar', 'terhadap', 'rupiah', '.'], ['as', 'pada', 'mei', 'lalu', 'melarang', 'penjualan', 'senjata', 'ke', 'venezuela', ',', 'yang', 'biasanya', 'membeli', 'peralatan', 'militer', 'amerika', '.'], ['perseroan', 'pada', 'tahun', 'lalu', 'mengalami', 'rugi', 'luar biasa', 'rp', '1,73', 'miliar', 'dibanding', 'tahun', 'sebelum', '-nya', 'yang', 'membukukan', 'keuntungan', 'luar biasa', 'rp', '455,68', 'miliar', '.'], ['tapi', ',', 'fico', 'menekankan', 'bahwa', 'satuan', 'disebut', 'pelopor', 'itu', 'hanya', 'akan', 'bekerja', 'dalam', 'perbatasan', 'pangkalan', 'udara', 'satu-satunya', 'di', 'kota', 'tersebut', 'dan', 'bahwa', 'jumlah', 'tentara', 'slowakia', 'di', 'afganistan', 'akan', 'dibatasi', 'hanya', '65', 'orang', '.'], ['ia', 'menambahkan', 'penyesuaian', 'tersebut', 'juga', 'untuk', 'mengantisipasi', 'indikasi', 'ekspektasi', 'tingkat', 'inflasi', 'yang', 'masih', 'tinggi', 'berkenaan', 'dengan', 'datang', '-nya', 'ramadhan', ',', 'lebaran', 'dan', 'tahun baru', '.'], ['memang', 'ada', 'mekanisme', 'lain', ',', 'tetapi', 'kami', 'tidak', 'bisa', 'kasih tahu', 'sekarang', ',', 'kata', 'hadiyanto', 'di', 'gedung', 'departemen', 'keuangan', 'jakarta', ',', 'jumat', '.'], ['menurut', 'laporan', 'cia', ',', 'montoya', 'dan', 'satu', 'kelompok', 'paramiliter', 'sebagai', 'bersama', 'melancarkan', 'operasi', 'militer', 'pada', '2002', 'guna', 'menghancurkan', 'gerilyawan', 'marxis', 'dari', 'daerah', 'miskin', 'di', 'sekitar', 'medellin', ',', 'kota industri', 'di', 'kolombia', ',', 'kata', 'los', 'angeles', 'times', '.'], ['inflasi', 'juli', 'year', 'on', 'year', 'mencapai', '11,9', 'persen', '.'], ['pemerintah', 'memperkirakan', 'pertumbuhan ekonomi', 'pada', 'triwulan', 'iii', '2007', 'mencapai', 'sekitar', '6,2', 'hingga', '6,4', 'persen', 'yang', 'didorong', 'oleh', 'faktor', 'konsumsi', ',', 'investasi', ',', 'dan', 'ekspor', '.'], ['pemerintah', 'mengusulkan', 'pengenaan', 'pajak penjualan', 'atas', 'barang mewah', 'ppnbm', 'maksimal', 'sebesar', '200', 'persen', ',', 'atau', 'jauh', 'di', 'atas', 'ppnbm', 'maksimal', 'saat', 'ini', '75', 'persen', ',', 'demikian', 'salah satu', 'perubahan', 'yang', 'diajukan', 'pemerintah', 'dalam', 'draf', 'ruu', 'pajak', 'pertambahan', 'nilai', 'ppn', 'dan', 'ppnbm', '.'], ['para', 'pejabat', 'mengatakan', ',', 'botol', 'tersebut', 'berisi', 'beberapa', 'jenis', 'cairan', 'mudah', 'terbakar', 'dan', 'jelas', 'kelihatan', 'menjadi', 'sebab', 'kebakaran', '.'], ['nilai', 'penjualan', 'saham', 'isat', 'ini', 'mencapai', '2,4', 'miliar', 'dolar', 'singapura', 'atau', '1,8', 'miliar', 'dolar', 'as', 'atau', 'rp', '16,2', 'triliun', '.'], ['bank', 'syariah', 'mandiri', 'bsm', 'menaikkan', 'target', 'perolehan', 'laba bersih', 'pada', '2007', 'dari', 'sebelum', '-nya', 'sebesar', 'rp', '75', 'miliar', 'menjadi', 'sebesar', 'rp', '113', 'miliar', '.'], ['kenaikan', 'terjadi', 'karena', 'adanya', 'kenaikan', 'tarif', 'dan', 'perbaikan', 'penegakan', 'hukum', ',', 'kata', '-nya', '.'], ['perkembangan', 'pasar modal', 'juga', 'sudah', 'kembali', 'menunjukkan', 'trend', 'meningkat', '.'], ['di', 'kalangan', 'otoritas', 'moneter', 'rupa', '-nya', 'dianut', 'mitos', 'bahwa', 'lembaga keuangan', 'yang', 'lebih', 'besar', 'adalah', 'yang', 'lebih', 'baik', 'opini', 'penulis', 'dalam', 'media', 'indonesia', ',', '24', 'mei', '2000', '.'], ['bank', 'indonesia', 'bi', 'akan', 'mengkaji', 'kemungkinan', 'menaikkan', 'persentase', 'giro', 'wajib', 'minimum', 'gwm', 'perbankan', 'di', 'bank', 'indonesia', 'bi', 'sebagai', 'instrumen', 'untuk', 'mengendalikan', 'inflasi', 'yang', 'terus', 'tertekan', 'akibat', 'tinggi', '-nya', 'harga', 'minyak', 'dunia', '.'], ['bimo', 'mengatakan', ',', 'lahan', 'penambangan', 'batu', 'granit', 'itu', 'dalam', 'status', 'penyelidikan', ',', 'sehingga', 'apabila', 'penambangan', 'tetap', 'dilanjutkan', 'akan', 'mengakibatkan', 'dampak', 'hukum', 'yang', 'serius', 'bagi', 'antam', 'sebagai', 'pemegang', 'surat', 'izin', 'pertambangan', 'daerah', 'sipd', '.'], ['menurut', 'dia', ',', 'rupiah', 'kemungkinan', 'tidak', 'akan', 'jauh', 'berada', 'dalam', 'kisaran', 'antara', 'rp', '9', 'hingga', 'rp', '9.1', 'per', 'dolar', 'as', '.'], ['mitra', 'menambahkan', 'bahwa', 'penurunan', 'tajam', 'dalam', 'subsidi', 'harga', 'minyak', 'dan', 'tumbuhnya', 'kepercayaan', 'fiskal', 'pada', 'utang', 'dalam', 'mata uang', 'lokal', 'dengan', 'bunga', 'tetap', 'telah', 'mengurangi', 'vulnerability', 'sifat', 'rentan', 'terserang', 'terhadap', 'guncangan', 'bunga', 'atau', 'harga', 'domestik', 'yang', 'mendadak', '.'], ['mishra', 'tidak', 'menjelaskan', 'kedua', 'orang', 'tersebut', ',', 'namun', 'kantor berita', 'india', ',', 'pti', 'mengatakan', ',', 'mereka', 'adalah', 'manajer', 'toko', 'tas', 'yang', 'memasok', 'pembungkus', 'untuk', 'koper', ',', 'di mana', 'bom-bom', 'itu', 'disembunyikan', '.'], ['pada', 'tahun', '2001', 'penerimaan', 'negara', 'dari', 'pajak', 'dan', 'dividen', 'indosat', 'mencapai', 'rp', '1,4', 'triliun', '.'], ['menurut', 'kepala', 'divisi', 'perdagangan', 'bej', 'hamdi', 'hassyarbaini', ',', 'suspensi', 'tersebut', 'dilakukan', 'untuk', 'mencegah', 'terjadi', '-nya', 'fluktuasi', 'tidak', 'wajar', 'atas', 'harga', 'saham', 'bbni', 'sehubungan', 'dengan', 'masa', 'penawaran', 'umum', 'saham', 'kedua', 'pt', 'bank', 'negara', 'indonesia', 'tbk.', 'sekretaris', 'perusahaan', 'lautan', 'luas', ',', 'herman', 'santoso', ',', 'dalam', 'laporan', '-nya', 'kepada', 'ketua', 'bapepam', '-', 'lk', 'di', 'jakarta', ',', 'senin', ',', 'mengatakan', 'perusahaan', 'baru', 'tersebut', 'memproduksi', 'amoniak', 'terletak', 'di', 'hong', 'ze', ',', 'china', 'dengan', 'total', 'modal', 'dicatatkan', 'sebesar', '60', 'juta', 'rmb', 'terdiri', 'dari', 'lautan', 'luas', 'singapore', 'pte', '.'], ['ltd', '.'], ['30', 'persen', 'dan', 'hongze', 'yinzhu', 'chemical', 'industry', 'group', 'co.', 'ltd', '.']]\n"
          ],
          "name": "stdout"
        }
      ]
    },
    {
      "cell_type": "code",
      "metadata": {
        "id": "3vhu07B7-2MS",
        "colab": {
          "base_uri": "https://localhost:8080/"
        },
        "outputId": "8ce844d7-46f7-4e2b-e6b3-1fb4ce8738ab"
      },
      "source": [
        "print(training_tags)"
      ],
      "execution_count": 22,
      "outputs": [
        {
          "output_type": "stream",
          "text": [
            "[['NN', 'RB', 'MD', 'VB', 'NN', 'SC', 'VB', 'NN', 'NN', 'JJ', 'CC', 'JJ', 'NN', 'VB', 'RB', 'JJ', 'Z', 'SC', 'NN', 'PR', 'RB', 'JJ', 'IN', 'JJ', 'NN', 'IN', 'NN', 'CD', 'CC', 'Z', 'VB', 'PRP', 'Z'], ['NNP', 'NNP', 'NNP', 'NNP', 'NNP', 'JJ', 'VB', 'NN', 'NN', 'NN', 'NN', 'NNP', 'NNP', 'CD', 'SC', 'VB', 'CD', 'Z', 'CD', 'CD', 'Z'], ['NN', 'NN', 'NN', 'MD', 'VB', 'IN', 'NN', 'VB', 'PRP', 'NN', 'NN', 'JJ', 'IN', 'NNP', 'Z'], ['IN', 'NN', 'CD', 'NN', 'NN', 'NN', 'NN', 'VB', 'CD', 'NND', 'VB', 'VB', 'NNP', 'SYM', 'CD', 'CD', 'Z'], ['PRP', 'VB', 'SC', 'NN', 'NN', 'IN', 'VB', 'PRP', 'NN', 'NN', 'JJ', 'CD', 'CD', 'IN', 'NN', 'CD', 'Z', 'VB', 'NNP', 'NNP', 'NNP', 'NNP', 'NNP', 'NNP', 'NN', 'NN', 'PR', 'VB', 'IN', 'NN', 'NNP', 'Z', 'SC', 'NN', 'VB', 'NN', 'NN', 'NN', 'NN', 'PR', 'Z', 'VB', 'PRP', 'Z'], ['SC', 'NN', 'NN', 'VB', 'SYM', 'CD', 'CD', 'SC', 'NN', 'NN', 'JJ', 'SYM', 'CD', 'CD', 'Z'], ['NN', 'NNP', 'MD', 'VB', 'SC', 'NN', 'NN', 'NN', 'MD', 'VB', 'Z', 'CD', 'SC', 'VB', 'NN', 'NN', 'SC', 'VB', 'NN', 'SC', 'VB', 'Z'], ['NN', 'VB', 'IN', 'NN', 'SC', 'JJ', 'SC', 'VB', 'IN', 'SYM', 'CD', 'IN', 'SYM', 'CD', 'IN', 'NN', 'NNP', 'Z', 'CC', 'IN', 'VB', 'NN', 'SYM', 'CD', 'IN', 'NN', 'NNP', 'RB', 'NN', 'MD', 'RB', 'VB', 'Z'], ['SC', 'PR', 'Z', 'NN', 'NNP', 'VB', 'NN', 'OD', 'PRP', 'IN', 'NN', 'NN', 'NN', 'JJ', 'IN', 'NNP', 'Z', 'IN', 'NN', 'CD', 'NN', 'PRP', 'IN', 'NN', 'NN', 'NN', 'NNP', 'PR', 'NNP', 'Z', 'CD', 'NN', 'SC', 'NN', 'NN', 'NN', 'CC', 'SC', 'CD', 'PRP', 'RB', 'SC', 'NN', 'NN', 'Z'], ['CC', 'SC', 'NN', 'PR', 'NN', 'VB', 'JJ', 'VB', 'IN', 'NN', 'PR', 'Z', 'SC', 'NN', 'VB', 'NN', 'PRP', 'Z', 'VB', 'PRP', 'Z'], ['CC', 'NN', 'NN', 'NN', 'PR', 'VB', 'IN', 'NN', 'CD', 'NN', 'NNP', 'IN', 'NN', 'CD', 'SC', 'MD', 'VB', 'NN', 'IN', 'VB', 'PRP', 'NN', 'X', 'NN', 'IN', 'NN', 'PR', 'Z'], ['NN', 'VB', 'IN', 'NN', 'NN', 'SC', 'JJ', 'Z', 'VB', 'IN', 'CD', 'NN', 'CC', 'CD', 'NN', 'IN', 'NN', 'NNP', 'IN', 'IN', 'NNP', 'Z', 'NNP', 'CC', 'NNP', 'Z'], ['NNP', 'Z', 'SC', 'VB', 'IN', 'NN', 'NN', 'NN', 'NNP', 'IN', 'NN', 'CD', 'CC', 'VB', 'CD', 'NN', 'NEG', 'Z', 'NNP', 'Z', 'JJ', 'NN', 'SC', 'VB', 'IN', 'NNP', 'NNP', 'VB', 'NN', 'PR', 'Z', 'CC', 'NEG', 'VB', 'VB', 'IN', 'VB', 'PRP', 'NN', 'Z'], ['VB', 'PRP', 'PR', 'MD', 'JJ', 'JJ', 'VB', 'CC', 'VB', 'NN', 'NN', 'Z', 'VB', 'NNP', 'Z'], ['PRP', 'MD', 'VB', 'NN', 'IN', 'NNP', 'MD', 'NN', 'NN', 'NN', 'SC', 'VB', 'IN', 'NN', 'NNP', 'Z'], ['CD', 'NN', 'NN', 'PR', 'RB', 'VB', 'VB', 'PRP', 'SC', 'NN', 'NN', 'NN', 'VB', 'Z'], ['SC', 'PR', 'Z', 'NNP', 'NNP', 'NNP', 'Z', 'NNP', 'NNP', 'CC', 'NNP', 'NNP', 'NNP', 'NNP', 'NNP', 'Z', 'VB', 'SC', 'VB', 'NN', 'SC', 'VB', 'NN', 'NN', 'NNP', 'Z', 'SC', 'VB', 'NN', 'NN', 'Z'], ['NNP', 'NNP', 'NNP', 'NNP', 'VB', 'Z', 'NNP', 'NNP', 'MD', 'VB', 'IN', 'NN', 'NN', 'NN', 'IN', 'NNP', 'SC', 'MD', 'VB', 'IN', 'CD', 'CD', 'NND', 'NN', 'IN', 'NN', 'SC', 'NN', 'NN', 'IN', 'NNP', 'Z', 'NNP', 'Z', 'CC', 'RB', 'CD', 'NN', 'NN', 'NN', 'JJ', 'PRP', 'Z'], ['NNP', 'NNP', 'IN', 'PR', 'NN', 'VB', 'VB', 'MD', 'VB', 'CC', 'NEG', 'PRP', 'NN', 'CC', 'NN', 'IN', 'CD', 'NN', 'NN', 'NN', 'NNP', 'Z'], ['CC', 'NEG', 'VB', 'NNP', 'MD', 'RB', 'VB', 'IN', 'NN', 'CD', 'CD', 'IN', 'NN', 'NN', 'PR', 'NNP', 'MD', 'MD', 'RB', 'VB', 'NN', 'NN', 'IN', 'NN', 'NN', 'Z'], ['NNP', 'NNP', 'IN', 'NN', 'NN', 'NNP', 'NNP', 'NNP', 'OD', 'IN', 'NNP', 'Z', 'NNP', 'Z', 'VB', 'NN', 'NN', 'IN', 'NN', 'PR', 'VB', 'FW', 'VB', 'VB', 'IN', 'NN', 'CD', 'SC', 'RB', 'JJ', 'CD', 'CD', 'IN', 'NN', 'IN', 'NN', 'SYM', 'CD', 'CD', 'Z'], ['IN', 'PRP', 'Z', 'NN', 'PR', 'VB', 'NN', 'NN', 'SC', 'MD', 'VB', 'IN', 'NN', 'NN', 'NNP', 'IN', 'NN', 'JJ', 'NN', 'NN', 'NN', 'NN', 'SC', 'MD', 'VB', 'IN', 'NN', 'NNP', 'CD', 'Z'], ['NN', 'NNP', 'VB', 'JJ', 'SC', 'FW', 'NN', 'CD', 'CD', 'IN', 'NN', 'NN', 'CD', 'FW', 'CD', 'Z', 'CD', 'CD', 'Z', 'IN', 'NN', 'NN', 'NN', 'SC', 'JJ', 'CD', 'CD', 'Z'], ['CD', 'NN', 'JJ', 'NN', 'VB', 'NN', 'SC', 'VB', 'NN', 'PR', 'CC', 'VB', 'VB', 'IN', 'NN', 'NN', 'NN', 'NN', 'NN', 'IN', 'NN', 'NN', 'NNP', 'Z', 'IN', 'NN', 'NN', 'JJ', 'Z'], ['PR', 'VB', 'NN', 'VB', 'NN', 'Z'], ['NN', 'Z', 'PRP', 'VB', 'Z', 'MD', 'MD', 'MD', 'VB', 'SC', 'JJ', 'VB', 'NN', 'SYM', 'CD', 'IN', 'NN', 'NNP', 'Z', 'CC', 'NNP', 'NNP', 'NNP', 'VB', 'MD', 'VB', 'NN', 'SC', 'VB', 'NN', 'SC', 'RB', 'JJ', 'IN', 'NN', 'Z'], ['NNP', 'IN', 'NNP', 'CC', 'VB', 'NN', 'NN', 'IN', 'NNP', 'Z', 'SC', 'RB', 'VB', 'NN', 'NN', 'NNP', 'Z'], ['NN', 'IN', 'NN', 'CC', 'VB', 'JJ', 'JJ', 'SYM', 'CD', 'CD', 'VB', 'NN', 'SC', 'PRP', 'SC', 'VB', 'NN', 'JJ', 'SYM', 'CD', 'CD', 'Z'], ['CC', 'Z', 'NNP', 'VB', 'SC', 'NN', 'VB', 'NN', 'PR', 'RB', 'MD', 'VB', 'IN', 'NN', 'NN', 'NN', 'JJ', 'IN', 'NN', 'PR', 'CC', 'SC', 'NN', 'NN', 'NNP', 'IN', 'NNP', 'MD', 'VB', 'RB', 'CD', 'NN', 'Z'], ['PRP', 'VB', 'NN', 'PR', 'RB', 'SC', 'VB', 'NN', 'NN', 'NN', 'NN', 'SC', 'MD', 'JJ', 'VB', 'IN', 'VB', 'PRP', 'NNP', 'Z', 'NNP', 'CC', 'NNP', 'Z'], ['RB', 'VB', 'NN', 'JJ', 'Z', 'CC', 'PRP', 'NEG', 'MD', 'VB', 'NN', 'Z', 'VB', 'NNP', 'IN', 'NNP', 'NNP', 'NNP', 'NNP', 'Z', 'NNP', 'Z'], ['IN', 'NN', 'NNP', 'Z', 'NNP', 'CC', 'CD', 'NN', 'JJ', 'IN', 'IN', 'VB', 'NN', 'NN', 'IN', 'CD', 'SC', 'VB', 'NN', 'NNP', 'IN', 'NN', 'JJ', 'IN', 'IN', 'NNP', 'Z', 'NN', 'IN', 'NNP', 'Z', 'VB', 'NNP', 'NNP', 'NNP', 'Z'], ['NN', 'NNP', 'FW', 'FW', 'FW', 'VB', 'CD', 'CD', 'Z'], ['NN', 'VB', 'NN', 'IN', 'NN', 'OD', 'CD', 'VB', 'IN', 'CD', 'IN', 'CD', 'CD', 'SC', 'VB', 'IN', 'NN', 'NN', 'Z', 'NN', 'Z', 'CC', 'NN', 'Z'], ['NN', 'VB', 'NN', 'NN', 'IN', 'NN', 'NN', 'JJ', 'JJ', 'CD', 'CD', 'Z', 'CC', 'JJ', 'IN', 'NN', 'NN', 'JJ', 'NN', 'PR', 'CD', 'CD', 'Z', 'PR', 'CD', 'NN', 'SC', 'VB', 'NN', 'IN', 'NN', 'NNP', 'NNP', 'NN', 'NNP', 'NN', 'CC', 'NN', 'Z'], ['DT', 'NN', 'VB', 'Z', 'NN', 'PR', 'VB', 'CD', 'NND', 'NN', 'JJ', 'VB', 'CC', 'JJ', 'VB', 'VB', 'SC', 'NN', 'Z'], ['NN', 'NN', 'NN', 'NNP', 'PR', 'VB', 'CD', 'CD', 'NN', 'NNP', 'CC', 'CD', 'CD', 'NN', 'NNP', 'CC', 'SYM', 'CD', 'CD', 'Z'], ['NNP', 'NNP', 'NNP', 'NNP', 'VB', 'NN', 'NN', 'NN', 'IN', 'CD', 'IN', 'SC', 'PRP', 'JJ', 'SYM', 'CD', 'CD', 'VB', 'JJ', 'SYM', 'CD', 'CD', 'Z'], ['NN', 'VB', 'SC', 'NN', 'NN', 'NN', 'CC', 'NN', 'NN', 'NN', 'Z', 'VB', 'PRP', 'Z'], ['NN', 'NN', 'RB', 'MD', 'VB', 'VB', 'FW', 'VB', 'Z'], ['IN', 'NN', 'NN', 'JJ', 'NN', 'PRP', 'VB', 'NN', 'SC', 'NN', 'SC', 'RB', 'JJ', 'VB', 'SC', 'RB', 'JJ', 'NN', 'NN', 'IN', 'NNP', 'NNP', 'Z', 'CD', 'NNP', 'CD', 'Z'], ['NNP', 'NNP', 'NNP', 'MD', 'VB', 'NN', 'VB', 'NN', 'NN', 'JJ', 'NN', 'NN', 'NN', 'IN', 'NNP', 'NNP', 'NNP', 'IN', 'NN', 'SC', 'VB', 'NN', 'SC', 'RB', 'VB', 'NN', 'JJ', 'PRP', 'NN', 'NN', 'NN', 'Z'], ['NNP', 'VB', 'Z', 'NN', 'NN', 'NN', 'NN', 'PR', 'IN', 'NN', 'NN', 'Z', 'SC', 'SC', 'NN', 'RB', 'VB', 'MD', 'VB', 'NN', 'NN', 'SC', 'JJ', 'IN', 'NNP', 'IN', 'NN', 'NNP', 'NNP', 'NNP', 'NNP', 'NNP', 'Z'], ['IN', 'PRP', 'Z', 'NN', 'MD', 'NEG', 'MD', 'JJ', 'VB', 'IN', 'NN', 'IN', 'SYM', 'CD', 'IN', 'SYM', 'CD', 'IN', 'NN', 'NNP', 'Z'], ['NNP', 'VB', 'SC', 'NN', 'JJ', 'IN', 'NN', 'NN', 'NN', 'CC', 'NN', 'NN', 'JJ', 'IN', 'NN', 'IN', 'NN', 'JJ', 'IN', 'NN', 'RB', 'MD', 'VB', 'FW', 'NN', 'JJ', 'VB', 'IN', 'NN', 'NN', 'CC', 'NN', 'JJ', 'SC', 'RB', 'Z'], ['NNP', 'NEG', 'VB', 'CD', 'NN', 'PR', 'Z', 'CC', 'NN', 'NNP', 'Z', 'NNP', 'VB', 'Z', 'PRP', 'VB', 'NN', 'NN', 'NN', 'SC', 'VB', 'NN', 'IN', 'NN', 'Z', 'SC', 'NN', 'PR', 'VB', 'Z'], ['IN', 'NN', 'CD', 'NN', 'NN', 'IN', 'NN', 'CC', 'NN', 'NNP', 'VB', 'SYM', 'CD', 'CD', 'Z'], ['IN', 'NNP', 'NNP', 'NNP', 'NNP', 'NNP', 'NNP', 'Z', 'NN', 'PR', 'VB', 'SC', 'VB', 'VB', 'PRP', 'NN', 'NEG', 'JJ', 'IN', 'NN', 'NN', 'NNP', 'SC', 'IN', 'NN', 'NN', 'JJ', 'NN', 'OD', 'NNP', 'NNP', 'NNP', 'NNP', 'NNP', 'NNP', 'NNP', 'NNP', 'NNP', 'Z', 'NNP', 'NNP', 'Z', 'IN', 'NN', 'PRP', 'IN', 'NN', 'NNP', 'NNP', 'NNP', 'IN', 'NNP', 'Z', 'NNP', 'Z', 'VB', 'NN', 'JJ', 'PR', 'VB', 'NN', 'VB', 'IN', 'NNP', 'NNP', 'Z', 'NNP', 'IN', 'NN', 'NN', 'VB', 'JJ', 'CD', 'CD', 'NNP', 'VB', 'IN', 'NNP', 'NNP', 'NNP', 'NNP', 'NNP'], ['NNP', 'NNP'], ['CD', 'CD', 'CC', 'NNP', 'NNP', 'NNP', 'NNP', 'NNP', 'NNP', 'NNP', 'Z']]\n"
          ],
          "name": "stdout"
        }
      ]
    },
    {
      "cell_type": "markdown",
      "metadata": {
        "id": "7W-tzeEb8F87"
      },
      "source": [
        "Fungsi untuk ekstraksi fitur.\n",
        "\n",
        "Perhatikan bahwa di contoh ini kata tidak diubah menjadi huruf kecil semua (*lower case*), namun juga tidak ada fitur yang terkait dengan penggunaan huruf kapital."
      ]
    },
    {
      "cell_type": "code",
      "metadata": {
        "id": "2EkXk9nq8IBz"
      },
      "source": [
        "def features(sentence, index):\n",
        "    \"\"\" sentence: [w1, w2, ...], index: the index of the word \"\"\"\n",
        "    #print(\"sentence index = \")\n",
        "    #print(sentence[index])\n",
        "    prefix_1 = ''\n",
        "    prefix_2 = ''\n",
        "    suffix_1 = ''\n",
        "    suffix_2 = ''\n",
        "    if (len(sentence[index])>2):\n",
        "      prefix_1 = sentence[index][0]\n",
        "      prefix_2 = sentence[index][:2]\n",
        "      suffix_1 = sentence[index][-1]\n",
        "      suffix_2 = sentence[index][-2:]\n",
        "    return {\n",
        "        'word': sentence[index],\n",
        "        'prefix-1': prefix_1,\n",
        "        'prefix-2': prefix_2,        \n",
        "        'suffix-1': suffix_1,\n",
        "        'suffix-2': suffix_2,        \n",
        "        'prev_word': '' if index == 0 else sentence[index - 1],\n",
        "        'next_word': '' if index == len(sentence) - 1 else sentence[index + 1],\n",
        "    }"
      ],
      "execution_count": 23,
      "outputs": []
    },
    {
      "cell_type": "markdown",
      "metadata": {
        "id": "dEip-d3x72ge"
      },
      "source": [
        "Fungsi untuk transformasi format dataset"
      ]
    },
    {
      "cell_type": "code",
      "metadata": {
        "id": "rNA5zrX579xr"
      },
      "source": [
        "def transform_to_dataset(sentences, tags):\n",
        "    X, y = [], []\n",
        " \n",
        "    for sentence_idx in range(len(sentences)):\n",
        "        for index in range(len(sentences[sentence_idx])):\n",
        "            X.append(features(sentences[sentence_idx], index))\n",
        "            y.append(tags[sentence_idx][index])\n",
        " \n",
        "    return X, y"
      ],
      "execution_count": 24,
      "outputs": []
    },
    {
      "cell_type": "markdown",
      "metadata": {
        "id": "xHeKeI6hzmdw"
      },
      "source": [
        "Tes pada kalimat uji"
      ]
    },
    {
      "cell_type": "code",
      "metadata": {
        "colab": {
          "base_uri": "https://localhost:8080/",
          "height": 198
        },
        "id": "t3GdNZRGzv_w",
        "outputId": "19a995fe-6bfc-49cd-89e6-953ef2bc18a1"
      },
      "source": [
        "colnames = ['Word','Tag']\r\n",
        "tsv_read_test = pd.read_csv(\"test_sentences.tsv\",sep=\"\\t\", names=colnames, header=None)\r\n",
        "tsv_read_test = tsv_read_test.astype(str)\r\n",
        "tsv_read_test.head()"
      ],
      "execution_count": 25,
      "outputs": [
        {
          "output_type": "execute_result",
          "data": {
            "text/html": [
              "<div>\n",
              "<style scoped>\n",
              "    .dataframe tbody tr th:only-of-type {\n",
              "        vertical-align: middle;\n",
              "    }\n",
              "\n",
              "    .dataframe tbody tr th {\n",
              "        vertical-align: top;\n",
              "    }\n",
              "\n",
              "    .dataframe thead th {\n",
              "        text-align: right;\n",
              "    }\n",
              "</style>\n",
              "<table border=\"1\" class=\"dataframe\">\n",
              "  <thead>\n",
              "    <tr style=\"text-align: right;\">\n",
              "      <th></th>\n",
              "      <th>Word</th>\n",
              "      <th>Tag</th>\n",
              "    </tr>\n",
              "  </thead>\n",
              "  <tbody>\n",
              "    <tr>\n",
              "      <th>0</th>\n",
              "      <td>Menteri</td>\n",
              "      <td>NNP</td>\n",
              "    </tr>\n",
              "    <tr>\n",
              "      <th>1</th>\n",
              "      <td>pertahanan</td>\n",
              "      <td>NNP</td>\n",
              "    </tr>\n",
              "    <tr>\n",
              "      <th>2</th>\n",
              "      <td>AS</td>\n",
              "      <td>NNP</td>\n",
              "    </tr>\n",
              "    <tr>\n",
              "      <th>3</th>\n",
              "      <td>dijadwalkan</td>\n",
              "      <td>VB</td>\n",
              "    </tr>\n",
              "    <tr>\n",
              "      <th>4</th>\n",
              "      <td>mengunjungi</td>\n",
              "      <td>VB</td>\n",
              "    </tr>\n",
              "  </tbody>\n",
              "</table>\n",
              "</div>"
            ],
            "text/plain": [
              "          Word  Tag\n",
              "0      Menteri  NNP\n",
              "1   pertahanan  NNP\n",
              "2           AS  NNP\n",
              "3  dijadwalkan   VB\n",
              "4  mengunjungi   VB"
            ]
          },
          "metadata": {
            "tags": []
          },
          "execution_count": 25
        }
      ]
    },
    {
      "cell_type": "code",
      "metadata": {
        "id": "dKL51PGvGlzU"
      },
      "source": [
        "word_temp = [] \r\n",
        "tag_temp= [] \r\n",
        "testing_sentences = []\r\n",
        "testing_tags = [] \r\n",
        "\r\n",
        "for index, row in tsv_read_test.iterrows():   \r\n",
        "    word = row['Word'].lower()\r\n",
        "    tag = row['Tag']\r\n",
        "    if word_temp != 'nan':\r\n",
        "      word_temp.append(word)\r\n",
        "      tag_temp.append(tag)\r\n",
        "      if word == '.' :\r\n",
        "        testing_sentences.append(word_temp)\r\n",
        "        testing_tags.append(tag_temp)\r\n",
        "        word_temp = []\r\n",
        "        tag_temp = []"
      ],
      "execution_count": 26,
      "outputs": []
    },
    {
      "cell_type": "code",
      "metadata": {
        "id": "FlI1CeQk_qwh",
        "colab": {
          "base_uri": "https://localhost:8080/"
        },
        "outputId": "4cbe9ee1-f1b2-4ea9-b6f7-bb07526b800b"
      },
      "source": [
        "print(testing_sentences)"
      ],
      "execution_count": 27,
      "outputs": [
        {
          "output_type": "stream",
          "text": [
            "[['menteri', 'pertahanan', 'as', 'dijadwalkan', 'mengunjungi', 'india', '.'], ['tata', 'power', 'menyuplai', 'batu bara', 'pada', 'tahun', '2000', '.'], ['pemerintah', 'hati-hati', 'dalam', 'mengelola', 'bumn', '.'], ['perusahaan', 'baru', 'tersebut', 'mencanangkan', 'target', 'perolehan', 'laba bersih', '.'], ['menteri', 'pertahanan', 'mengunjungi', 'pangkalan', 'udara', '.'], ['menurut', 'laporan', 'sekretaris', 'perusahaan', ',', 'laba bersih', 'meningkat', '.'], ['transaksi', 'penjualan', 'barang mewah', 'tahun', '2007', 'turun', '.'], ['menkeu', 'memperkirakan', 'inflasi', 'akan', 'meningkat', 'dibanding', 'tahun', 'lalu', '.'], ['kenaikan', 'tarif', 'didorong', 'oleh', 'target', 'laba bersih', 'yang', 'meningkat', '.'], ['makanan', 'dari', 'luar negeri', 'tidak', 'bisa', 'masuk', 'pasar', 'lokal', '.']]\n"
          ],
          "name": "stdout"
        }
      ]
    },
    {
      "cell_type": "code",
      "metadata": {
        "id": "Yzz2HZ_v_ulR",
        "colab": {
          "base_uri": "https://localhost:8080/"
        },
        "outputId": "3d7aa213-9701-4831-e719-1c5230c0938a"
      },
      "source": [
        "print(testing_tags)"
      ],
      "execution_count": 28,
      "outputs": [
        {
          "output_type": "stream",
          "text": [
            "[['NNP', 'NNP', 'NNP', 'VB', 'VB', 'NNP', 'Z'], ['NNP', 'NNP', 'VB', 'NN', 'IN', 'NN', 'CD', 'Z'], ['NN', 'JJ', 'IN', 'VB', 'NN', 'Z'], ['NN', 'JJ', 'PR', 'VB', 'NN', 'NN', 'NN', 'Z'], ['NNP', 'NNP', 'VB', 'NN', 'NN', 'Z'], ['IN', 'NN', 'NN', 'NN', 'Z', 'NN', 'VB', 'Z'], ['NN', 'NN', 'NN', 'NN', 'CD', 'VB', 'Z'], ['NN', 'VB', 'NN', 'MD', 'VB', 'VB', 'NN', 'CC', 'Z'], ['NN', 'NN', 'VB', 'IN', 'NN', 'NN', 'SC', 'VB', 'Z'], ['NN', 'IN', 'NN', 'NEG', 'MD', 'VB', 'NN', 'JJ', 'Z']]\n"
          ],
          "name": "stdout"
        }
      ]
    },
    {
      "cell_type": "markdown",
      "metadata": {
        "id": "yp3dtj4W_45M"
      },
      "source": [
        "Training"
      ]
    },
    {
      "cell_type": "code",
      "metadata": {
        "id": "pNI-pzlP_6Sx",
        "colab": {
          "base_uri": "https://localhost:8080/"
        },
        "outputId": "9ba1771b-f11f-4a02-a339-2536c8a0855e"
      },
      "source": [
        "X, y = transform_to_dataset(training_sentences, training_tags)\n",
        "\n",
        "\n",
        "from sklearn import tree\n",
        "from sklearn.feature_extraction import DictVectorizer\n",
        "from sklearn.pipeline import Pipeline\n",
        " \n",
        "clf = Pipeline([\n",
        "    ('vectorizer', DictVectorizer(sparse=False)),\n",
        "    ('classifier', tree.DecisionTreeClassifier(criterion='entropy'))\n",
        "])\n",
        "clf.fit(X, y)   \n",
        " \n",
        "print('Training completed')"
      ],
      "execution_count": 29,
      "outputs": [
        {
          "output_type": "stream",
          "text": [
            "Training completed\n"
          ],
          "name": "stdout"
        }
      ]
    },
    {
      "cell_type": "markdown",
      "metadata": {
        "id": "hzek48TOAaYh"
      },
      "source": [
        "Testing"
      ]
    },
    {
      "cell_type": "markdown",
      "metadata": {
        "id": "VsM7joFqApLh"
      },
      "source": [
        "Hasil tagging pada kalimat uji"
      ]
    },
    {
      "cell_type": "code",
      "metadata": {
        "id": "PPErc0sq6rTR",
        "colab": {
          "base_uri": "https://localhost:8080/"
        },
        "outputId": "b85c4a8c-2f8e-4d55-c968-969d57bfd96c"
      },
      "source": [
        "tagging = []\n",
        "for sentence in testing_sentences:\n",
        "    tags = clf.predict([features(sentence, index) for index in range(len(sentence))])\n",
        "    for i in range(len(sentence)):\n",
        "        print('Word:',sentence[i] ,', Tag:', tags[i])\n",
        "        tagging.append(tags[i])"
      ],
      "execution_count": 30,
      "outputs": [
        {
          "output_type": "stream",
          "text": [
            "Word: menteri , Tag: RB\n",
            "Word: pertahanan , Tag: NN\n",
            "Word: as , Tag: NNP\n",
            "Word: dijadwalkan , Tag: VB\n",
            "Word: mengunjungi , Tag: VB\n",
            "Word: india , Tag: NNP\n",
            "Word: . , Tag: Z\n",
            "Word: tata , Tag: CD\n",
            "Word: power , Tag: NNP\n",
            "Word: menyuplai , Tag: VB\n",
            "Word: batu bara , Tag: NN\n",
            "Word: pada , Tag: IN\n",
            "Word: tahun , Tag: NN\n",
            "Word: 2000 , Tag: CD\n",
            "Word: . , Tag: Z\n",
            "Word: pemerintah , Tag: NN\n",
            "Word: hati-hati , Tag: JJ\n",
            "Word: dalam , Tag: IN\n",
            "Word: mengelola , Tag: NNP\n",
            "Word: bumn , Tag: NNP\n",
            "Word: . , Tag: Z\n",
            "Word: perusahaan , Tag: NN\n",
            "Word: baru , Tag: JJ\n",
            "Word: tersebut , Tag: PR\n",
            "Word: mencanangkan , Tag: VB\n",
            "Word: target , Tag: NN\n",
            "Word: perolehan , Tag: NN\n",
            "Word: laba bersih , Tag: NN\n",
            "Word: . , Tag: Z\n",
            "Word: menteri , Tag: RB\n",
            "Word: pertahanan , Tag: NN\n",
            "Word: mengunjungi , Tag: VB\n",
            "Word: pangkalan , Tag: NN\n",
            "Word: udara , Tag: NN\n",
            "Word: . , Tag: Z\n",
            "Word: menurut , Tag: IN\n",
            "Word: laporan , Tag: NN\n",
            "Word: sekretaris , Tag: NNP\n",
            "Word: perusahaan , Tag: NNP\n",
            "Word: , , Tag: Z\n",
            "Word: laba bersih , Tag: NN\n",
            "Word: meningkat , Tag: VB\n",
            "Word: . , Tag: Z\n",
            "Word: transaksi , Tag: NN\n",
            "Word: penjualan , Tag: NN\n",
            "Word: barang mewah , Tag: NN\n",
            "Word: tahun , Tag: NN\n",
            "Word: 2007 , Tag: CD\n",
            "Word: turun , Tag: NNP\n",
            "Word: . , Tag: Z\n",
            "Word: menkeu , Tag: RB\n",
            "Word: memperkirakan , Tag: VB\n",
            "Word: inflasi , Tag: NN\n",
            "Word: akan , Tag: MD\n",
            "Word: meningkat , Tag: VB\n",
            "Word: dibanding , Tag: VB\n",
            "Word: tahun , Tag: NN\n",
            "Word: lalu , Tag: CC\n",
            "Word: . , Tag: Z\n",
            "Word: kenaikan , Tag: NN\n",
            "Word: tarif , Tag: NN\n",
            "Word: didorong , Tag: VB\n",
            "Word: oleh , Tag: IN\n",
            "Word: target , Tag: NN\n",
            "Word: laba bersih , Tag: NN\n",
            "Word: yang , Tag: SC\n",
            "Word: meningkat , Tag: VB\n",
            "Word: . , Tag: Z\n",
            "Word: makanan , Tag: NN\n",
            "Word: dari , Tag: IN\n",
            "Word: luar negeri , Tag: NN\n",
            "Word: tidak , Tag: NEG\n",
            "Word: bisa , Tag: NN\n",
            "Word: masuk , Tag: VB\n",
            "Word: pasar , Tag: NN\n",
            "Word: lokal , Tag: JJ\n",
            "Word: . , Tag: Z\n"
          ],
          "name": "stdout"
        }
      ]
    },
    {
      "cell_type": "code",
      "metadata": {
        "colab": {
          "base_uri": "https://localhost:8080/"
        },
        "id": "ZaMUpjeaIXpr",
        "outputId": "6dca439a-939f-4d74-c1e5-a10e34743b4c"
      },
      "source": [
        "print(tagging)"
      ],
      "execution_count": 31,
      "outputs": [
        {
          "output_type": "stream",
          "text": [
            "['RB', 'NN', 'NNP', 'VB', 'VB', 'NNP', 'Z', 'CD', 'NNP', 'VB', 'NN', 'IN', 'NN', 'CD', 'Z', 'NN', 'JJ', 'IN', 'NNP', 'NNP', 'Z', 'NN', 'JJ', 'PR', 'VB', 'NN', 'NN', 'NN', 'Z', 'RB', 'NN', 'VB', 'NN', 'NN', 'Z', 'IN', 'NN', 'NNP', 'NNP', 'Z', 'NN', 'VB', 'Z', 'NN', 'NN', 'NN', 'NN', 'CD', 'NNP', 'Z', 'RB', 'VB', 'NN', 'MD', 'VB', 'VB', 'NN', 'CC', 'Z', 'NN', 'NN', 'VB', 'IN', 'NN', 'NN', 'SC', 'VB', 'Z', 'NN', 'IN', 'NN', 'NEG', 'NN', 'VB', 'NN', 'JJ', 'Z']\n"
          ],
          "name": "stdout"
        }
      ]
    },
    {
      "cell_type": "code",
      "metadata": {
        "id": "K9lEI_K4Ab4h",
        "colab": {
          "base_uri": "https://localhost:8080/"
        },
        "outputId": "de2853c4-4000-4a68-b112-d51425e61362"
      },
      "source": [
        "X_test, y_test = transform_to_dataset(testing_sentences, testing_tags)\n",
        " \n",
        "print(\"Akurasi dengan metode Classification:\", clf.score(X_test, y_test))"
      ],
      "execution_count": 32,
      "outputs": [
        {
          "output_type": "stream",
          "text": [
            "Akurasi dengan metode Classification: 0.8441558441558441\n"
          ],
          "name": "stdout"
        }
      ]
    }
  ]
}